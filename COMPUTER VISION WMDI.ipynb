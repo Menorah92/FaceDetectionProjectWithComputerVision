{
 "cells": [
  {
   "cell_type": "code",
   "execution_count": 1,
   "id": "c2fc6717",
   "metadata": {},
   "outputs": [
    {
     "name": "stdout",
     "output_type": "stream",
     "text": [
      "Requirement already satisfied: opencv.python in c:\\users\\user\\anaconda3\\lib\\site-packages (4.10.0.82)\n",
      "Requirement already satisfied: numpy>=1.21.2 in c:\\users\\user\\anaconda3\\lib\\site-packages (from opencv.python) (1.26.4)\n"
     ]
    }
   ],
   "source": [
    "#COMPUTER VISION\n",
    "##INSTALL opencv-python\n",
    "!pip install opencv.python"
   ]
  },
  {
   "cell_type": "code",
   "execution_count": 2,
   "id": "68ae75a6",
   "metadata": {},
   "outputs": [],
   "source": [
    "#Import opencv\n",
    "import cv2"
   ]
  },
  {
   "cell_type": "code",
   "execution_count": 9,
   "id": "4d769be7",
   "metadata": {},
   "outputs": [],
   "source": [
    "#Leverage Haar cascade classifiers\n",
    "#search in browser-haar cascade github\n",
    "\n",
    "face_cascade = cv2.CascadeClassifier(cv2.data.haarcascades + \"haarcascade_frontalface_default.xml\")\n",
    "eye_cascade = cv2.CascadeClassifier(cv2.data.haarcascades + \"haarcascade_eye.xml\")\n",
    "smile_cascade = cv2.CascadeClassifier(cv2.data.haarcascades + \"haarcascade_smile.xml\")\n"
   ]
  },
  {
   "cell_type": "code",
   "execution_count": 7,
   "id": "ee80ea2c",
   "metadata": {},
   "outputs": [],
   "source": [
    "#Create a function that will detect the face\n",
    "\n",
    "def detect(gray, frame):\n",
    "    #Face Detection\n",
    "    face = face_cascade.detectMultiScale(gray, 1.3, 5)\n",
    "    for (x, y, w, h) in face:\n",
    "        cv2.rectangle(frame,(x,y), (x+w, y+h),(255, 0,0), 3)\n",
    "        roi_gray = gray[y:y+h, x:x+w]\n",
    "        roi_color = frame[y:y+h, x:x+w]\n",
    "\n",
    "        #Eyes Detection       \n",
    "        eyes = eye_cascade.detectMultiScale(gray, 1.1, 3)\n",
    "        for (ex, ey, ew, eh) in eyes:\n",
    "            cv2.rectangle(frame,(ex,ey), (ex+ew, ey+eh),(100, 255,200), 2) \n",
    "            \n",
    "            #Smile Detection\n",
    "            smile = smile_cascade.detectMultiScale(gray, 1.7, 22)\n",
    "            for (sx, sy, sw, sh) in eyes:\n",
    "            cv2.rectangle(frame,(sx,sy), (sx+sw, sy+sh),(0, 200,100), 2) \n",
    "    \n",
    "        \n",
    "        \n",
    "        \n",
    "    return frame"
   ]
  },
  {
   "cell_type": "code",
   "execution_count": 8,
   "id": "1b1d4029",
   "metadata": {},
   "outputs": [],
   "source": [
    "#LOCAL WEBCAM = 0, EXTERNAL WEBCAM = 1\n",
    "capture = cv2.VideoCapture(0)\n",
    "\n",
    "while True:\n",
    "    _, frame = capture.read()\n",
    "    gray = cv2.cvtColor(frame, cv2.COLOR_BGR2GRAY)\n",
    "    canvas = detect(gray, frame)\n",
    "    cv2.imshow(\"Video\", canvas)\n",
    "    if cv2.waitKey(1) & 0xff == ord('q'):\n",
    "        break\n",
    "capture.release()\n",
    "cv2.destroyAllWindows()"
   ]
  },
  {
   "cell_type": "code",
   "execution_count": null,
   "id": "cfb27d01",
   "metadata": {},
   "outputs": [],
   "source": []
  },
  {
   "cell_type": "code",
   "execution_count": null,
   "id": "d4973b8a",
   "metadata": {},
   "outputs": [],
   "source": []
  }
 ],
 "metadata": {
  "kernelspec": {
   "display_name": "Python 3 (ipykernel)",
   "language": "python",
   "name": "python3"
  },
  "language_info": {
   "codemirror_mode": {
    "name": "ipython",
    "version": 3
   },
   "file_extension": ".py",
   "mimetype": "text/x-python",
   "name": "python",
   "nbconvert_exporter": "python",
   "pygments_lexer": "ipython3",
   "version": "3.11.7"
  }
 },
 "nbformat": 4,
 "nbformat_minor": 5
}
